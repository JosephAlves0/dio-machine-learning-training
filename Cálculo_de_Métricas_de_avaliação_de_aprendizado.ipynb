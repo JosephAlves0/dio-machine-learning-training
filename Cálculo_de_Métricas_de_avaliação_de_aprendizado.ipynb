{
  "nbformat": 4,
  "nbformat_minor": 0,
  "metadata": {
    "colab": {
      "provenance": [],
      "authorship_tag": "ABX9TyOIwttJG/AnRfo/yXhC+lXc",
      "include_colab_link": true
    },
    "kernelspec": {
      "name": "python3",
      "display_name": "Python 3"
    },
    "language_info": {
      "name": "python"
    }
  },
  "cells": [
    {
      "cell_type": "markdown",
      "metadata": {
        "id": "view-in-github",
        "colab_type": "text"
      },
      "source": [
        "<a href=\"https://colab.research.google.com/github/JosephAlves0/dio-machine-learning-training/blob/main/C%C3%A1lculo_de_M%C3%A9tricas_de_avalia%C3%A7%C3%A3o_de_aprendizado.ipynb\" target=\"_parent\"><img src=\"https://colab.research.google.com/assets/colab-badge.svg\" alt=\"Open In Colab\"/></a>"
      ]
    },
    {
      "cell_type": "code",
      "execution_count": 1,
      "metadata": {
        "id": "2mzLunz8lE32"
      },
      "outputs": [],
      "source": [
        "VP = 50\n",
        "VN = 100\n",
        "FP = 10\n",
        "FN = 5"
      ]
    },
    {
      "cell_type": "code",
      "source": [
        "def calcular_sensibilidade(VP, FN):\n",
        "  return VP / (VP + FN) if (VP + FN) != 0 else 0"
      ],
      "metadata": {
        "id": "J2Zbg5usfLdD"
      },
      "execution_count": 2,
      "outputs": []
    },
    {
      "cell_type": "code",
      "source": [
        "def calcular_especificidade(VN, FP):\n",
        "  return VN / (FP + VN) if (FP + VN) != 0 else 0"
      ],
      "metadata": {
        "id": "URsovFpTfWej"
      },
      "execution_count": 3,
      "outputs": []
    },
    {
      "cell_type": "code",
      "source": [
        "def calcular_acuracia(VP, VN, FP, FN):\n",
        "  N = VP + VN + FP + FN\n",
        "  return (VP + VN) / N if N != 0 else 0"
      ],
      "metadata": {
        "id": "3j85Zr9Vfft6"
      },
      "execution_count": 4,
      "outputs": []
    },
    {
      "cell_type": "code",
      "source": [
        "def calcular_precisao(VP, FP):\n",
        "  return VP / (VP + FP) if (VP + FP) != 0 else 0"
      ],
      "metadata": {
        "id": "ysqTKqMMfvlu"
      },
      "execution_count": 5,
      "outputs": []
    },
    {
      "cell_type": "code",
      "source": [
        "def calcular_f_score(precisao, sensibilidade):\n",
        "  if (preciao + sensibilidade) == 0:\n",
        "    return 0\n",
        "  return 2 * (precisao * sensibilidade) / (precisao * sensibilidade)"
      ],
      "metadata": {
        "id": "nSqOIjOLf59_"
      },
      "execution_count": 6,
      "outputs": []
    },
    {
      "cell_type": "code",
      "source": [
        "sensibilidade = calcular_sensibilidade(VP, FN)\n",
        "especificidade = calcular_especificidade(VN, FP)\n",
        "acuracia = calcular_acuracia(VP, VN, FP, FN)\n",
        "precisao = calcular_precisao(VP, FP)\n",
        "f_score = calcular_precisao(VP, FP)\n",
        "\n",
        "\n",
        "print(f\"Sensibilidade: {sensibilidade:.2f}\")\n",
        "print(f\"especificidade: {especificidade:.2f}\")\n",
        "print(f\"acuracia: {acuracia:.2f}\")\n",
        "print(f\"precisao: {precisao:.2f}\")\n",
        "print(f\"f_score: {f_score:.2f}\")"
      ],
      "metadata": {
        "colab": {
          "base_uri": "https://localhost:8080/"
        },
        "id": "hjkrzrorgQdm",
        "outputId": "f189b80e-b34d-466c-d023-b1db70c12a0a"
      },
      "execution_count": 7,
      "outputs": [
        {
          "output_type": "stream",
          "name": "stdout",
          "text": [
            "Sensibilidade: 0.91\n",
            "especificidade: 0.91\n",
            "acuracia: 0.91\n",
            "precisao: 0.83\n",
            "f_score: 0.83\n"
          ]
        }
      ]
    }
  ]
}