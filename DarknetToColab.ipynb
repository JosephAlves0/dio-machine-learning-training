{
  "nbformat": 4,
  "nbformat_minor": 0,
  "metadata": {
    "colab": {
      "provenance": [],
      "private_outputs": true,
      "include_colab_link": true
    },
    "kernelspec": {
      "name": "python3",
      "display_name": "Python 3"
    },
    "accelerator": "GPU"
  },
  "cells": [
    {
      "cell_type": "markdown",
      "metadata": {
        "id": "view-in-github",
        "colab_type": "text"
      },
      "source": [
        "<a href=\"https://colab.research.google.com/github/JosephAlves0/dio-machine-learning-training/blob/main/DarknetToColab.ipynb\" target=\"_parent\"><img src=\"https://colab.research.google.com/assets/colab-badge.svg\" alt=\"Open In Colab\"/></a>"
      ]
    },
    {
      "cell_type": "markdown",
      "metadata": {
        "id": "Ll6XWs4WeErH"
      },
      "source": [
        "![Notebook Title](http://blog.ibanyez.info/download/B20190408T000000071.jpg)"
      ]
    },
    {
      "cell_type": "markdown",
      "metadata": {
        "id": "Cqo1gtPX6BXO"
      },
      "source": [
        "# How to train YOLOv3 using Darknet on Colab notebook and optimize the VM runtime load times\n",
        "\n",
        "## Welcome!\n",
        "\n",
        "This Colab notebook will show you how to:\n",
        "\n",
        "* Train a **Yolo v3** model using **Darknet** using the Colab **12GB-RAM GPU**.\n",
        "* Turn Colab notebooks into an effective tool to work on real projects. Dealing with the handicap of a runtime that will **blow up every 12 hours** into the space!\n",
        "  * Working directly from the files on your computer.\n",
        "  * Configure your notebook to install everything you need and start training in about a minute (Tested using 550MB dataset).\n",
        "  * Receive your trained weights directly on your computer during the training. While the notebook is training you can check how it is going using your trained weights in your computer.\n",
        "\n",
        "\n",
        "#### This notebook is part of the post [How to train YOLOv3 using Darknet framework and optimize the VM runtime load times](http://blog.ibanyez.info/blogs/coding/20190410-run-a-google-colab-notebook-to-train-yolov3-using-darknet-in/) I encourage you to visit! You will find a deeper explanation about Google Colab, the goods and the limitations of this great tool.\n",
        "\n",
        "\n",
        "### These are the steps we'll follow:\n",
        "\n",
        "* Configure Google Drive and map as network  _Drive_.\n",
        "* Some utils to help to do some tasks.\n",
        "* Configure the pre-requisites on the runtime.\n",
        "  * Check the CUDA installation on the runtime VM.\n",
        "  * Install cuDNN.\n",
        "  * Clone and compile Darknet. We'll use a repo based on [AlexeyAB's Darknet repo](https://github.com/AlexeyAB/darknet/). I applied  some changes to make possible to load files from `/My Drive/` and reduced the number of logs on console to speed up the notebook.\n",
        "  * We'll check that everything works great.\n",
        "* Explained how to manage your YOLO files on your computer and it will be used transparently from this notebook.\n",
        "\n",
        "> _**NOTE:** Cells with an annotation **`# Not Necessary cell`**. Can be removed without having any impact. They are only explanatory content._\n",
        "\n",
        "### Without further ado, let's start!\n"
      ]
    },
    {
      "cell_type": "markdown",
      "metadata": {
        "id": "G4J9sFi39ScM"
      },
      "source": [
        "## STEP 0. Configure runtime to work with GPU\n",
        "\n",
        "We want to use the **12GB-RAM GPU** hardware acceleration!\n",
        "\n",
        "Go to **> Menu > Runtime > Configure Runtime Type** And select **GPU** From the **Hardware accelerator** drop down meu"
      ]
    },
    {
      "cell_type": "markdown",
      "metadata": {
        "id": "uOJg1x9gLvcj"
      },
      "source": [
        "## STEP 1. Connect your files to Google Drive\n",
        "In order to have your files in your local computer you need to install and configure Google Backup and Sync to keep one folder of your Drive synced with a folder on your computer.\n",
        "\n",
        "![schema drive.jpg](http://blog.ibanyez.info/download/B20190408T000000060.jpg)\n",
        "\n",
        "1. Create a folder on your Google Drive named _**darknet**_\n",
        "2. Configure the Google Backup and Sync as follows. If you don't speak Spanish, you maybe learn some words! **;)**\n",
        "![Sync Drive.jpg](http://blog.ibanyez.info/download/B20190408T000000063.jpg)\n",
        "\n",
        "**After this step you'll have a folder called _darknet_ in your local computer. This folder is where you will work with files on your computer**\n",
        "\n",
        "> _**TIP** - We need to have a good performance downloading data from Drive to Colab. Having a lot of files in your Drive root folder can slow down the things quite a bit. It's a good practice working with Colab to move all your root folder files into a folder_\n",
        "\n",
        "\n"
      ]
    },
    {
      "cell_type": "markdown",
      "metadata": {
        "id": "xaAwkZv0rBQd"
      },
      "source": [
        "## STEP 2. Connect the Colab notebook to Google Drive\n",
        "\n",
        "Now we're gonna map your Google Drive folder. This first step is the only one that will require your manual interaction every time you run your notebook.\n",
        "\n",
        "* Execute the following cell _(Click on Play button or press CTRL + ENTER)_ and click on the link to authorize your notebook to access to your Google Drive.\n",
        "* Paste the code Google will give to you and push `enter`"
      ]
    },
    {
      "cell_type": "code",
      "metadata": {
        "id": "LJZRcEw0LoBd"
      },
      "source": [
        "# This cell imports the drive library and mounts your Google Drive as a VM local drive. You can access to your Drive files\n",
        "# using this path \"/content/gdrive/My Drive/\"\n",
        "\n",
        "from google.colab import drive\n",
        "drive.mount('/content/gdrive')"
      ],
      "execution_count": null,
      "outputs": []
    },
    {
      "cell_type": "markdown",
      "metadata": {
        "id": "V8pPjCXXvASq"
      },
      "source": [
        "Congratulations! Now you can access to your local computer folder directly from here!\n",
        "\n",
        "Check it out!"
      ]
    },
    {
      "cell_type": "code",
      "metadata": {
        "id": "DrdyBxyZvLpM"
      },
      "source": [
        "# Not Necessary cell\n",
        "# List the content of your local computer folder\n",
        "!ls -la \"/content/gdrive/My Drive/darknet\""
      ],
      "execution_count": null,
      "outputs": []
    },
    {
      "cell_type": "code",
      "metadata": {
        "id": "sGNcZ9EtOK7k"
      },
      "source": [
        "!sudo apt-get install tree"
      ],
      "execution_count": null,
      "outputs": []
    },
    {
      "cell_type": "code",
      "metadata": {
        "id": "ZGsRuXM-OQBb"
      },
      "source": [
        "!tree /content/gdrive/My\\ Drive/darknet/"
      ],
      "execution_count": null,
      "outputs": []
    },
    {
      "cell_type": "markdown",
      "metadata": {
        "id": "q1_APkL1nYbz"
      },
      "source": [
        "### UPDATE NOTE\n",
        "\n",
        "If you want to simplify your paths, you can use a Symbolic link:\n",
        "\n",
        "`!ln -s \"/content/gdrive/My Drive/darknet/\" /mydrive`\n",
        "\n",
        " Then you'll be able to access your Google Drive files just using `/mydrive` path\n",
        "\n",
        "**BE CAREFUL: All the paths in this notebook are without using Symbolic link. You'll have to remember to change the path everywhere**\n",
        "\n",
        "Thanks to **Dennis Kashkin** for this recommendation!"
      ]
    },
    {
      "cell_type": "code",
      "metadata": {
        "id": "yreDPcJdoo29"
      },
      "source": [
        "# Uncomment if you want to use Symbolic link\n",
        "#!ln -s /content/gdrive/My\\ Drive/darknet/ /mydrive\n",
        "#!ls /mydrive"
      ],
      "execution_count": null,
      "outputs": []
    },
    {
      "cell_type": "markdown",
      "metadata": {
        "id": "db68v7TmMTmR"
      },
      "source": [
        "## STEP 2. Check CUDA release version\n",
        "\n",
        "Nvidia CUDA is pre-installed on Colab notebooks. Now we'll check the version installed.\n",
        "\n",
        "> _**BE AWARE:** Maybe some time from the time I'm writing these lines (April 9th, 2019)  the CUDA version is upgraded on Colab and you should download another version of the cuDNN in the next step. Now is release 10.0 and we are using cuDNN (cudnn-10.0-linux-x64-v7.5.0.56.tgz) accordingly_"
      ]
    },
    {
      "cell_type": "code",
      "metadata": {
        "id": "ew5eGbl9MdKL"
      },
      "source": [
        "# This cell can be commented once you checked the current CUDA version\n",
        "# CUDA: Let's check that Nvidia CUDA is already pre-installed and which version is it. In some time from now maybe you\n",
        "!/usr/local/cuda/bin/nvcc --version\n"
      ],
      "execution_count": null,
      "outputs": []
    },
    {
      "cell_type": "markdown",
      "metadata": {
        "id": "v3nkYzWwMuBk"
      },
      "source": [
        "## STEP 3. Install cuDNN according to the current CUDA version\n",
        "Now, you need to download cuDNN from Nvidia web site. You'll need to sign up on the site.\n",
        "\n",
        "* Download cuDNN from [Nvidia website](https://developer.nvidia.com/cudnn)\n",
        "\n",
        "  * Right now, because we have _**CUDA 10.0**_ preinstalled in Colab runtime, you need download [cuDNN v7.5.0.56 for CUDA v10.0](https://developer.nvidia.com/compute/machine-learning/cudnn/secure/v7.5.0.56/prod/10.0_20190219/cudnn-10.0-linux-x64-v7.5.0.56.tgz) - the file is cudnn-10.0-linux-x64-v7.5.0.56.tgz\n",
        "\n",
        "* On your local computer, create a folder named _**cuDNN**_ in your local folder _**darknet**_. Copy the _**tgz**_ file there\n",
        "\n"
      ]
    },
    {
      "cell_type": "code",
      "metadata": {
        "id": "r_A8LDvyM7x5"
      },
      "source": [
        "# We're unzipping the cuDNN files from your Drive folder directly to the VM CUDA folders\n",
        "!tar -xzvf gdrive/My\\ Drive/darknet/cuDNN/cudnn-10.0-linux-x64-v7.5.0.56.tgz -C /usr/local/\n",
        "!chmod a+r /usr/local/cuda/include/cudnn.h\n",
        "\n",
        "# Now we check the version we already installed. Can comment this line on future runs\n",
        "!cat /usr/local/cuda/include/cudnn.h | grep CUDNN_MAJOR -A 2"
      ],
      "execution_count": null,
      "outputs": []
    },
    {
      "cell_type": "markdown",
      "metadata": {
        "id": "9x9BFQOfNowN"
      },
      "source": [
        "## STEP 4. Installing Darknet\n",
        "Great!! We have all the necessary to start working with Darknet.\n",
        "\n",
        "This notebook works with a slightly modified version of darknet, which is based on the [AlexeyAB Darknet repo](https://github.com/AlexeyAB/darknet/)\n",
        "The changes applied to the original repo are:\n",
        "* Allowing to use spaces on the darknet configuration files _**obj.data**_. Necessary to work with Google Drive directly.\n",
        "* Removing some logs on every epoch. The original repo write more logs than the Colab notebook can sync. This creates a long queue during the training. This version only shows the results after every iteration.\n",
        "\n",
        "You can take a look to the code at the [github repo](https://github.com/kriyeng/darknet/)\n",
        "\n",
        "> _**TRICK**: Because we want to run the notebook fast every time we will compile darknet only the first time we run this notebook. Then, we'll save the compiled version to your drive. For the future executions we'll copy the compiled one instead of compiling again._\n",
        "\n",
        "\n",
        "**Here comes our first trick to speed up the runtime load time**\n",
        "\n",
        "* The first time we will:\n",
        "  * Clone and compile the darknet project.\n",
        "  * Copy the compiled version to our Google Drive Floder\n",
        "  \n",
        "* The next times, instead of compiling it again on every runtime load, we'll copy the compiled version to our VM machine!\n",
        "\n",
        "When compiling the first time, your output last line has to be something like this:\n",
        "\n",
        "`g++ -std=c++11 -Iinclude/ -I3rdparty/stb/include -DOPENCV `pkg-config --cflags opencv` -DGPU (...)`"
      ]
    },
    {
      "cell_type": "markdown",
      "metadata": {
        "id": "UXi9S5XAIP3A"
      },
      "source": [
        "## STEP 4-A. Cloning and compiling Darkent. ONLY NEEDS TO BE RUN ON THE FIRST EXECUTION!!\n",
        "In this step we'll clone the darkent repo and compile it.\n",
        "* Clone Repo\n",
        "* Compile Darknet\n",
        "* Copy compiled version to Drive\n",
        "\n",
        "When compiling ends, your output last line has to be something like this:\n",
        "\n",
        "_`g++ -std=c++11 -Iinclude/ -I3rdparty/stb/include -DOPENCV `pkg-config --cflags opencv` -DGPU (...)_`"
      ]
    },
    {
      "cell_type": "code",
      "metadata": {
        "id": "Pt0Y06QTNyZG"
      },
      "source": [
        "# Leave this code uncommented on the very first run of your notebook or if you ever need to recompile darknet again.\n",
        "# Comment this code on the future runs.\n",
        "!git clone https://github.com/kriyeng/darknet/\n",
        "%cd darknet\n",
        "\n",
        "# Check the folder\n",
        "!ls\n",
        "\n",
        "# I have a branch where I have done the changes commented above\n",
        "!git checkout feature/google-colab\n",
        "\n",
        "#Compile Darknet\n",
        "!make\n",
        "\n",
        "#Copies the Darknet compiled version to Google drive\n",
        "!cp ./darknet /content/gdrive/My\\ Drive/darknet/bin/darknet"
      ],
      "execution_count": null,
      "outputs": []
    },
    {
      "cell_type": "markdown",
      "metadata": {
        "id": "rrVEej6lIHTI"
      },
      "source": [
        "## STEP 4-B. Copying the compiled version of Darknet from Drive. UNCOMMENT AFTER FIRST EXECUTION\n",
        "Copy the darknet compiled version from drive to the VM.\n",
        "* Make the local darknet folder\n",
        "* Copy the darknet file\n",
        "* Set execution permissions"
      ]
    },
    {
      "cell_type": "code",
      "metadata": {
        "id": "jAN2TNZ007c_"
      },
      "source": [
        "# Uncomment after the first run, when you have a copy of compiled darkent in your Google Drive\n",
        "\n",
        "# Makes a dir for darknet and move there\n",
        "#!mkdir darknet\n",
        "#%cd darknet\n",
        "\n",
        "# Copy the Darkent compiled version to the VM local drive\n",
        "#!cp /content/gdrive/My\\ Drive/darknet/bin/darknet ./darknet\n",
        "\n",
        "# Set execution permissions to Darknet\n",
        "#!chmod +x ./darknet\n"
      ],
      "execution_count": null,
      "outputs": []
    },
    {
      "cell_type": "markdown",
      "metadata": {
        "id": "fH7QRxBUOPiz"
      },
      "source": [
        "## STEP 5. Runtime configuration finished!\n",
        "Let's chek it out!\n",
        "\n",
        "If you are running this notebook for the first time, you can run the following cells in order to check if everything goes as expected!\n",
        "\n",
        "\n"
      ]
    },
    {
      "cell_type": "markdown",
      "metadata": {
        "id": "CD378FjcrurC"
      },
      "source": [
        "## Some Utils\n",
        "Let's add some utils that maybe can be useful.\n",
        "\n",
        "These utils are:\n",
        "* imgShow() - Will help us to show an image in the remote VM\n",
        "* download() - Will allow you to get some file from your notebook in case you need to\n",
        "* upload() - You can upload files to your current folder on the remote VM.\n",
        "\n",
        "Thanks to [Ivan Goncharov](https://twitter.com/Ivangrov) for these helpers!"
      ]
    },
    {
      "cell_type": "code",
      "metadata": {
        "id": "WD5FBWmjrsks"
      },
      "source": [
        "#download files\n",
        "def imShow(path):\n",
        "  import cv2\n",
        "  import matplotlib.pyplot as plt\n",
        "  %matplotlib inline\n",
        "\n",
        "  image = cv2.imread(path)\n",
        "  height, width = image.shape[:2]\n",
        "  resized_image = cv2.resize(image,(3*width, 3*height), interpolation = cv2.INTER_CUBIC)\n",
        "\n",
        "  fig = plt.gcf()\n",
        "  fig.set_size_inches(18, 10)\n",
        "  plt.axis(\"off\")\n",
        "  #plt.rcParams['figure.figsize'] = [10, 5]\n",
        "  plt.imshow(cv2.cvtColor(resized_image, cv2.COLOR_BGR2RGB))\n",
        "  plt.show()\n",
        "\n",
        "\n",
        "def upload():\n",
        "  from google.colab import files\n",
        "  uploaded = files.upload()\n",
        "  for name, data in uploaded.items():\n",
        "    with open(name, 'wb') as f:\n",
        "      f.write(data)\n",
        "      print ('saved file', name)\n",
        "def download(path):\n",
        "  from google.colab import files\n",
        "  files.download(path)"
      ],
      "execution_count": null,
      "outputs": []
    },
    {
      "cell_type": "code",
      "metadata": {
        "id": "eCou8imNOTTN"
      },
      "source": [
        "# Not necessary cell\n",
        "# Get yolov3 weights\n",
        "!wget https://pjreddie.com/media/files/yolov3.weights"
      ],
      "execution_count": null,
      "outputs": []
    },
    {
      "cell_type": "markdown",
      "metadata": {
        "id": "JvySKrnh2cvG"
      },
      "source": [
        "**NOTE:** The following test only will work when the darknet is compiled in the runtime. This demo uses some data from the original darknet folders. For your Object detection projects, you'll have these necessary files on your local folder."
      ]
    },
    {
      "cell_type": "code",
      "metadata": {
        "id": "op1iEE3bOVR6"
      },
      "source": [
        "# Not necessary cell\n",
        "# Execute darknet using YOLOv3 model with pre-trained weights to detect objects on 'person.jpg'\n",
        "!./darknet detect cfg/yolov3.cfg yolov3.weights data/person.jpg -dont-show\n",
        "\n",
        "# Show the result using the helper imgShow()\n",
        "imShow('predictions.jpg')"
      ],
      "execution_count": null,
      "outputs": []
    },
    {
      "cell_type": "markdown",
      "metadata": {
        "id": "ZreQ_407H1uw"
      },
      "source": [
        "## If you can see the same picture as the one below, congratulations!! At this point you have Darknet configured and working!\n",
        "\n",
        "![person.jpg](http://blog.ibanyez.info/download/B20190409T000000064.png)"
      ]
    },
    {
      "cell_type": "markdown",
      "metadata": {
        "id": "j0t221djS1Gk"
      },
      "source": [
        "# PART 2. Training YOLO\n",
        "\n",
        " > _**TRICK:** Every time you want to run all your cells automatically you can go to the **> Menu > Runtime > run all**. Maybe you don't want to execute the entire notebook. You can write the following cell where you want to stop the process and uncoment the **`assert False`** command. This will throw an error and will stop to run more cells. Thanks to: [This thread](https://groups.google.com/forum/#!topic/jupyter/ELftSFSiedQ)_\n",
        "\n",
        "\n"
      ]
    },
    {
      "cell_type": "code",
      "metadata": {
        "id": "KQjODqIAS-er"
      },
      "source": [
        "# don't go beyond here with Run All\n",
        "#assert False"
      ],
      "execution_count": null,
      "outputs": []
    },
    {
      "cell_type": "markdown",
      "metadata": {
        "id": "wkzMqLZV-rF5"
      },
      "source": [
        "## PART 2. STEP 0. Preparing your data and configuration files\n",
        "\n",
        "Before going further let's take a look at what configuration files you need to have in your local drive _`darknet`_\n",
        "\n",
        "![Yolov3 configuration files cheat sheet.jpg](http://blog.ibanyez.info/download/B20190410T000000072.png)\n",
        "\n",
        "You can download the cheat sheet [here](http://blog.ibanyez.info/download/B20190410T000000072.png)\n",
        "\n",
        "If you need deeper explanations on how to prepare your data sets, annotation and deep learning, visit [How to train YOLOv3 using Darknet framework and optimize the VM runtime load times](post link)\n",
        "\n",
        "\n",
        "> **TRICK:** You have to be carefully configuring paths on your config files. _*obj.data*_ file needs to have spaces on the path escaped with _**\\**_. Like this: **_/content/gdrive/My\\ Drive/darknet/train.txt_**. But, in files **_train.txt_** and **_test.txt_** does not!\n",
        "\n",
        "\n"
      ]
    },
    {
      "cell_type": "markdown",
      "metadata": {
        "id": "dKl1l_NgBn6y"
      },
      "source": [
        "## PART 2. STEP 1. Loading files to VM local drive\n",
        "The network speed between Google Drive and Colab VM can have an impact on your training speed accessing to your dataset images.\n",
        "\n",
        "You can have 3 possible approaches depending on the size of your dataset.\n",
        "\n",
        "> _**NOTE:** This step is not necessary for all the configuration files and weights. They can be accessed directly from Google Drive without considerable performance issues. **This step is only for the dataset images and annotations**_\n",
        "\n",
        "* **Option 1** - You can try  to use directly the files from Google Drive _`img/`_ folder. Depending on your dataset maybe this can be more than good.\n",
        "* **Option 2** - Before start training copy your dataset from Google Drive to the local VM filesystem. Maybe can be a good practice to copy as one single tar file and decompress in your VM local _`img/`_ folder\n",
        "* **Option 3** - If your dataset is quite big, maybe you can upload to a git repository and clone from here. Usually transfer time between are much better. If you have to decide I have the feeling that bitbucket have better speed transfer times than github, but please, don't take this as confirmed, **I haven't done specific tests on that, I could be wrong!**\n",
        "\n",
        "\n"
      ]
    },
    {
      "cell_type": "markdown",
      "metadata": {
        "id": "4Cp5EsZOEBv8"
      },
      "source": [
        "#### PART 2. STEP 1 - Option 1. Using files from Google Drive directly.\n",
        "You don't have to do anything here. Your **_train.txt_** should have the correct path:\n",
        "* **/content/grdive/My Drive/darknet/img/image001.jpg**. As said before, don't use escaped white space for the paths on _**train.txt**_ and _**test.txt**_"
      ]
    },
    {
      "cell_type": "markdown",
      "metadata": {
        "id": "x6zm1GHDF-8_"
      },
      "source": [
        "#### PART 2. STEP 1 - Option 2A. Copying files from Google Drive to VM local filesystem.\n",
        "Execute the follow cell to copy your files"
      ]
    },
    {
      "cell_type": "code",
      "metadata": {
        "id": "WewV3jU3B4Eo"
      },
      "source": [
        "# Copy fils from Google Drive to the VM local filesystem\n",
        "!cp -r \"/content/gdrive/My Drive/darknet/img\" ./img\n"
      ],
      "execution_count": null,
      "outputs": []
    },
    {
      "cell_type": "markdown",
      "metadata": {
        "id": "PhUzh9F-GehW"
      },
      "source": [
        "#### PART 2. STEP 1 - Option 2B. Copying files zipped from Google Drive to VM local filesystem and unzip locally.\n",
        "Execute the follow cell to copy your files and uncompress.\n",
        "You can use _*!ls*_ command to esnure what's the correct path you have to configure in your _*train.txt*_ to correctly access to your dataset images\n"
      ]
    },
    {
      "cell_type": "code",
      "metadata": {
        "id": "vjnV7SDOGpdN"
      },
      "source": [
        "# Copy your compressed file\n",
        "#!cp -r \"/content/gdrive/My Drive/darknet/img/img.tgz\" ./img\n",
        "\n",
        "# Uncompress zipped file\n",
        "#!tar -xzvf ./img/img.tgz"
      ],
      "execution_count": null,
      "outputs": []
    },
    {
      "cell_type": "markdown",
      "metadata": {
        "id": "trq0Nnt9Hdns"
      },
      "source": [
        "#### PART 2. STEP 1 - Option 3. Clone your image dataset from a git repo. Seems the fastest one.\n",
        "Execute the follow cell to clone your dataset repo to VM local filesystem\n"
      ]
    },
    {
      "cell_type": "code",
      "metadata": {
        "id": "3Pa1Z9cxC290"
      },
      "source": [
        "# Git clone directly to ./img folder\n",
        "#!git clone https://[your-repository] ./img\n",
        "\n",
        "# Check the result - Uncomment when you checked for speed up further runs\n",
        "#!ls -la ./img"
      ],
      "execution_count": null,
      "outputs": []
    },
    {
      "cell_type": "markdown",
      "metadata": {
        "id": "6_4747QHIGZ7"
      },
      "source": [
        "## PART 3. Finally, Train your model!\n",
        "\n",
        "When you execute the following command, your model will start training.\n",
        "\n",
        "You will have a log line per epoch. On each iteration you will see how your training is going.\n",
        "\n",
        "> **TRICK: Darknet copies a backup of your trained weights every 100 iterations. As magic, this file will be synced to your local drive on your computer, as well as the backups darknet do every 1000 iterations, saving it on a separate file.**\n",
        "\n",
        "\n",
        "\n"
      ]
    },
    {
      "cell_type": "code",
      "metadata": {
        "id": "13fRzkiQiPhW"
      },
      "source": [
        "!./darknet detector train \"/content/gdrive/My Drive/darknet/obj.data\" \"/content/gdrive/My Drive/darknet/yolov3.cfg\" \"/content/gdrive/My Drive/darknet/darknet53.conv.74\" -dont_show"
      ],
      "execution_count": null,
      "outputs": []
    },
    {
      "cell_type": "markdown",
      "metadata": {
        "id": "0oWYkXA0LtCQ"
      },
      "source": [
        "## PERFORMANCE TIPS & TRICKS\n",
        "\n",
        "* **Speed up load times of the runtime:** When everything is checked that works, you can remove cells or comment unnecessary lines of code to make your loading time lower on every run.\n",
        "\n",
        "* **How to keep your notebook alive for more time?:** Keep you browser with your notebook open. If you close your browser, your notebook will reach the iddle time and will be removed from Colab cloud Service. (90 minutes)\n",
        "  \n",
        "* **Re-run your training after reaching the limitation time for Colab runtimes (12 hours):**\n",
        "  * Open a new notebook or reconnect the current one.\n",
        "  * Comment the cell above and uncomment the cell below.\n",
        "  * In your local computer, copy the file **backup/yolov3_last.weights** to your local computer **weights/** folder.\n",
        "  * Execute Run all in the **> menu > Runtime > Run All**\n",
        "  * _The copy step is not absolutely necessary, but I like to keep a copy of the last training session and not overwrite this file on next trainings._"
      ]
    },
    {
      "cell_type": "code",
      "metadata": {
        "id": "josdFFdVMyj3"
      },
      "source": [
        "# Start training at the point where the last runtime finished\n",
        "#!./darknet detector train \"/content/gdrive/My Drive/darknet/obj.data\" \"/content/gdrive/My Drive/darknet/yolov3.cfg\" \"/content/gdrive/My Drive/darknet/weights/yolov_last.weights\" -dont_show"
      ],
      "execution_count": null,
      "outputs": []
    },
    {
      "cell_type": "markdown",
      "metadata": {
        "id": "G3C8fIrVKR4T"
      },
      "source": [
        "## TROUBLESHOOTING\n",
        "The main problems you can face if your model throw an error is:\n",
        "\n",
        "* Images or files not found. Check the **Yolov3 cheat sheet** image above and check that everything is ok.\n",
        "* If have you configured wrongly your **filters** and **classes** in the **yolov3.cfg**. Check the **Yolov3 cheet sheet** above.\n",
        "* You can face some out of memory or library errors mainly for the lack of some the pre-requisits. In this case, check the versions of the current libraries installed on your Colab VM. You can find more information in the first steps of this notebook.\n",
        "* **Batch** and **subdivisions** parameters on your **yolov3.cfg** can affect to the memory allocation as well. Refer to the original repo [Here]() for further details.\n",
        "\n",
        "### TROUBLESHOOTING UPDATE\n",
        "Be careful if you are preparing your files on Windows. If you use **CRLF** on your files instead of **LF** You can have problems opening the files correctly. - Thanks to [Satya Shetty](https://twitter.com/satyashetty) for sharing this issue!\n"
      ]
    },
    {
      "cell_type": "markdown",
      "metadata": {
        "id": "46LRTt-5Pr52"
      },
      "source": [
        "## About me\n",
        "\n",
        "You can find the original post with more explanations about this notebook at [How to train YOLOv3 using Darknet framework and optimize the VM runtime load times](post link)\n",
        "\n",
        "I'm David Ibañez from Barcelona. Feel free to get in touch!\n",
        "\n",
        "* You can visit my blog at [Dev-ibanyez.info](http://blog.ibanyex.info)\n",
        "* You can get in touch with me on [Twitter](https://twitter.com/dav_ibanez)\n",
        "* You can get in touch or contribute to this notebook at [Github](https://github.com/kriyeng/yolo-on-colab-notebook/)\n",
        "* You can comment on the [dev.to post about this notebook ](PENDING)\n",
        "\n",
        "Thanks for you having read this notebook! :clap: :clap: :clap:\n",
        "\n",
        "## SOURCES\n",
        "\n",
        "\n",
        "#### Other sources\n",
        "* YOLO original web site [Joseph Redmon Page](https://pjreddie.com/darknet/yolo/)\n",
        "* AlexeyAB darknet repo [github](https://github.com/AlexeyAB/darknet/)\n",
        "* The Ivan Goncharov [notebook](https://github.com/ivangrov/YOLOv3-GoogleColab/blob/master/YOLOv3_GoogleColab.ipynb) inspired me to try Google Colab and end up creating this notebook."
      ]
    },
    {
      "cell_type": "code",
      "metadata": {
        "id": "30e03b2c"
      },
      "source": [
        "!wget http://pjreddie.com/media/files/VOCtrainval_06-Nov-2007.tar\n",
        "!wget http://pjreddie.com/media/files/VOCtest_06-Nov-2007.tar\n",
        "!wget http://pjreddie.com/media/files/VOCtrainval_11-May-2012.tar\n",
        "\n",
        "!tar xvf VOCtrainval_06-Nov-2007.tar\n",
        "!tar xvf VOCtest_06-Nov-2007.tar\n",
        "!tar xvf VOCtrainval_11-May-2012.tar\n",
        "\n",
        "!mv VOCdevkit /content/VOCdevkit_2007\n",
        "!mv VOCdevkit /content/VOCdevkit_2012"
      ],
      "execution_count": null,
      "outputs": []
    },
    {
      "cell_type": "code",
      "metadata": {
        "id": "fb981ed0"
      },
      "source": [
        "\n",
        "!wget http://pjreddie.com/media/files/VOCtrainval_06-Nov-2007.tar -O VOCtrainval_2007.tar\n",
        "!wget http://pjreddie.com/media/files/VOCtest_06-Nov-2007.tar -O VOCtest_2007.tar\n",
        "\n",
        "# Download Pascal VOC 2012 train/val\n",
        "!wget http://pjreddie.com/media/files/VOCtrainval_11-May-2012.tar -O VOCtrainval_2012.tar\n",
        "\n",
        "# Create directories for extraction\n",
        "!mkdir /content/VOCdevkit_2007\n",
        "!mkdir /content/VOCdevkit_2012\n",
        "\n",
        "# Extract the datasets to their respective directories\n",
        "!tar xvf VOCtrainval_2007.tar -C /content/VOCdevkit_2007\n",
        "!tar xvf VOCtest_2007.tar -C /content/VOCdevkit_2007\n",
        "!tar xvf VOCtrainval_2012.tar -C /content/VOCdevkit_2012\n",
        "\n",
        "# Verify the contents (optional)\n",
        "!ls /content/VOCdevkit_2007/VOC2007/\n",
        "!ls /content/VOCdevkit_2012/VOC2012/"
      ],
      "execution_count": null,
      "outputs": []
    },
    {
      "cell_type": "code",
      "metadata": {
        "id": "add53533"
      },
      "source": [
        "import xml.etree.ElementTree as ET\n",
        "import os\n",
        "import glob\n",
        "\n",
        "classes = [\"aeroplane\", \"bicycle\", \"bird\", \"boat\", \"bottle\", \"bus\", \"car\", \"cat\", \"chair\", \"cow\", \"diningtable\", \"dog\", \"horse\", \"motorbike\", \"person\", \"pottedplant\", \"sheep\", \"sofa\", \"train\", \"tvmonitor\"]\n",
        "\n",
        "def convert(size, box):\n",
        "    dw = 1./size[0]\n",
        "    dh = 1./size[1]\n",
        "    x = (box[0] + box[1])/2.0\n",
        "    y = (box[2] + box[3])/2.0\n",
        "    w = box[1] - box[0]\n",
        "    h = box[3] - box[2]\n",
        "    x = x*dw\n",
        "    w = w*dw\n",
        "    y = y*dh\n",
        "    h = h*dh\n",
        "    return (x,y,w,h)\n",
        "\n",
        "def convert_annotation(image_set, year, output_dir):\n",
        "    in_path = f'/content/VOCdevkit_{year}/VOC{year}/Annotations/'\n",
        "    out_path = output_dir\n",
        "    image_list_path = f'/content/VOCdevkit_{year}/VOC{year}/ImageSets/Main/{image_set}.txt'\n",
        "\n",
        "    if not os.path.exists(out_path):\n",
        "        os.makedirs(out_path)\n",
        "\n",
        "    with open(image_list_path, 'r') as f:\n",
        "        image_ids = f.read().strip().split()\n",
        "\n",
        "    for image_id in image_ids:\n",
        "        in_file = open(in_path + image_id + '.xml')\n",
        "        out_file = open(os.path.join(out_path, image_id + '.txt'), 'w')\n",
        "        tree = ET.parse(in_file)\n",
        "        root = tree.getroot()\n",
        "        size = root.find('size')\n",
        "        w = int(size.find('width').text)\n",
        "        h = int(size.find('height').text)\n",
        "\n",
        "        for obj in root.iter('object'):\n",
        "            difficult = obj.find('difficult').text\n",
        "            cls = obj.find('name').text\n",
        "            if cls not in classes or int(difficult) == 1:\n",
        "                continue\n",
        "            cls_id = classes.index(cls)\n",
        "            xmlbox = obj.find('bndbox')\n",
        "            b = (float(xmlbox.find('xmin').text), float(xmlbox.find('xmax').text), float(xmlbox.find('ymin').text), float(xmlbox.find('ymax').text))\n",
        "            bb = convert((w,h), b)\n",
        "            out_file.write(str(cls_id) + \" \" + \" \".join([str(a) for a in bb]) + '\\n')\n",
        "\n",
        "        in_file.close()\n",
        "        out_file.close()\n",
        "\n",
        "output_annotations_dir = '/content/pascal_voc_yolo_annotations/'\n",
        "if not os.path.exists(output_annotations_dir):\n",
        "    os.makedirs(output_annotations_dir)\n",
        "\n",
        "\n",
        "print(\"Converting VOC2007 trainval...\")\n",
        "convert_annotation('trainval', '2007', output_annotations_dir)\n",
        "print(\"Converting VOC2007 test...\")\n",
        "convert_annotation('test', '2007', output_annotations_dir)\n",
        "print(\"Converting VOC2012 trainval...\")\n",
        "convert_annotation('trainval', '2012', output_annotations_dir)\n",
        "\n",
        "print(\"\\nConversion complete!\")\n",
        "print(f\"YOLO format annotations saved to: {output_annotations_dir}\")"
      ],
      "execution_count": null,
      "outputs": []
    },
    {
      "cell_type": "code",
      "metadata": {
        "id": "e5ca7b63"
      },
      "source": [
        "import os\n",
        "\n",
        "classes = [\"aeroplane\", \"bicycle\", \"bird\", \"boat\", \"bottle\", \"bus\", \"car\", \"cat\", \"chair\", \"cow\", \"diningtable\", \"dog\", \"horse\", \"motorbike\", \"person\", \"pottedplant\", \"sheep\", \"sofa\", \"train\", \"tvmonitor\"]\n",
        "\n",
        "yolo_annotations_dir = '/content/pascal_voc_yolo_annotations/'\n",
        "\n",
        "darknet_dir = '/content/darknet/'\n",
        "\n",
        "google_drive_darknet_dir = '/content/gdrive/My Drive/darknet/'\n",
        "\n",
        "if not os.path.exists(os.path.join(google_drive_darknet_dir, 'bin')):\n",
        "    os.makedirs(os.path.join(google_drive_darknet_dir, 'bin'))\n",
        "if not os.path.exists(os.path.join(google_drive_darknet_dir, 'backup')):\n",
        "    os.makedirs(os.path.join(google_drive_darknet_dir, 'backup'))\n",
        "\n",
        "obj_names_path = os.path.join(darknet_dir, 'data', 'obj.names')\n",
        "with open(obj_names_path, 'w') as f:\n",
        "    for cls in classes:\n",
        "        f.write(cls + '\\n')\n",
        "\n",
        "print(f\"Arquivo {obj_names_path} criado.\")\n",
        "\n",
        "train_image_list = []\n",
        "test_image_list = []\n",
        "\n",
        "voc2007_trainval_path = '/content/VOCdevkit_2007/VOC2007/ImageSets/Main/trainval.txt'\n",
        "with open(voc2007_trainval_path, 'r') as f:\n",
        "    image_ids = f.read().strip().split()\n",
        "    for img_id in image_ids:\n",
        "        train_image_list.append(f'./img/VOC2007/JPEGImages/{img_id}.jpg')\n",
        "\n",
        "\n",
        "voc2012_trainval_path = '/content/VOCdevkit_2012/VOC2012/ImageSets/Main/trainval.txt'\n",
        "with open(voc2012_trainval_path, 'r') as f:\n",
        "    image_ids = f.read().strip().split()\n",
        "    for img_id in image_ids:\n",
        "         train_image_list.append(f'./img/VOC2012/JPEGImages/{img_id}.jpg')\n",
        "\n",
        "\n",
        "voc2007_test_path = '/content/VOCdevkit_2007/VOC2007/ImageSets/Main/test.txt'\n",
        "with open(voc2007_test_path, 'r') as f:\n",
        "    image_ids = f.read().strip().split()\n",
        "    for img_id in image_ids:\n",
        "        test_image_list.append(f'./img/VOC2007/JPEGImages/{img_id}.jpg')\n",
        "\n",
        "\n",
        "train_txt_path = os.path.join(darknet_dir, 'data', 'train.txt')\n",
        "with open(train_txt_path, 'w') as f:\n",
        "    for img_path in train_image_list:\n",
        "        f.write(img_path + '\\n')\n",
        "\n",
        "print(f\"Arquivo {train_txt_path} criado com {len(train_image_list)} imagens.\")\n",
        "\n",
        "test_txt_path = os.path.join(darknet_dir, 'data', 'test.txt')\n",
        "with open(test_txt_path, 'w') as f:\n",
        "    for img_path in test_image_list:\n",
        "        f.write(img_path + '\\n')\n",
        "\n",
        "print(f\"Arquivo {test_txt_path} criado com {len(test_image_list)} imagens.\")\n",
        "\n",
        "\n",
        "obj_data_path = os.path.join(google_drive_darknet_dir, 'obj.data')\n",
        "\n",
        "obj_data_content = f\"\"\"classes = {len(classes)}\n",
        "train = {train_txt_path}\n",
        "valid = {test_txt_path}\n",
        "names = {obj_names_path}\n",
        "backup = {os.path.join(google_drive_darknet_dir, 'backup/')}\n",
        "\"\"\"\n",
        "\n",
        "\n",
        "print(\"Corrigindo script de conversão para salvar anotações na estrutura esperada pelo Darknet...\")\n",
        "\n",
        "def convert_annotation_to_darknet_structure(image_set, year, base_output_img_dir):\n",
        "    in_path = f'/content/VOCdevkit_{year}/VOC{year}/Annotations/'\n",
        "    out_path = os.path.join(base_output_img_dir, 'labels')\n",
        "    image_list_path = f'/content/VOCdevkit_{year}/VOC{year}/ImageSets/Main/{image_set}.txt'\n",
        "\n",
        "    if not os.path.exists(out_path):\n",
        "        os.makedirs(out_path)\n",
        "\n",
        "    with open(image_list_path, 'r') as f:\n",
        "        image_ids = f.read().strip().split()\n",
        "\n",
        "    for image_id in image_ids:\n",
        "        xml_file_path = in_path + image_id + '.xml'\n",
        "        if not os.path.exists(xml_file_path):\n",
        "            print(f\"Aviso: Arquivo XML não encontrado para {image_id} em {in_path}. Pulando.\")\n",
        "            continue\n",
        "\n",
        "        try:\n",
        "            in_file = open(xml_file_path)\n",
        "            out_file = open(os.path.join(out_path, image_id + '.txt'), 'w')\n",
        "            tree = ET.parse(in_file)\n",
        "            root = tree.getroot()\n",
        "            size = root.find('size')\n",
        "            w = int(size.find('width').text)\n",
        "            h = int(size.find('height').text)\n",
        "\n",
        "            for obj in root.iter('object'):\n",
        "                difficult = obj.find('difficult').text\n",
        "                cls = obj.find('name').text\n",
        "                if cls not in classes:\n",
        "                    print(f\"Aviso: Classe '{cls}' encontrada para {image_id} não está na lista de classes. Pulando.\")\n",
        "                    continue\n",
        "\n",
        "                if int(difficult) == 1:\n",
        "                    continue\n",
        "\n",
        "                cls_id = classes.index(cls)\n",
        "                xmlbox = obj.find('bndbox')\n",
        "                b = (float(xmlbox.find('xmin').text), float(xmlbox.find('xmax').text), float(xmlbox.find('ymin').text), float(xmlbox.find('ymax').text))\n",
        "                bb = convert((w,h), b)\n",
        "                out_file.write(str(cls_id) + \" \" + \" \".join([str(a) for a in bb]) + '\\n')\n",
        "\n",
        "            in_file.close()\n",
        "            out_file.close()\n",
        "        except Exception as e:\n",
        "            print(f\"Erro ao processar arquivo {xml_file_path}: {e}\")\n",
        "            if 'in_file' in locals() and not in_file.closed:\n",
        "                in_file.close()\n",
        "            if 'out_file' in locals() and not out_file.closed:\n",
        "                out_file.close()\n",
        "            continue\n",
        "\n",
        "\n",
        "output_img_dir_2007 = os.path.join(darknet_dir, 'img', 'VOC2007', 'JPEGImages')\n",
        "output_img_dir_2012 = os.path.join(darknet_dir, 'img', 'VOC2012', 'JPEGImages')\n",
        "\n",
        "if not os.path.exists(output_img_dir_2007):\n",
        "    os.makedirs(output_img_dir_2007)\n",
        "if not os.path.exists(output_img_dir_2012):\n",
        "    os.makedirs(output_img_dir_2012)\n",
        "\n",
        "\n",
        "print(\"Copiando imagens para a estrutura do Darknet...\")\n",
        "!cp /content/VOCdevkit_2007/VOC2007/JPEGImages/* {output_img_dir_2007}/\n",
        "\n",
        "!cp /content/VOCdevkit_2012/VOC2012/JPEGImages/* {output_img_dir_2012}/\n",
        "\n",
        "print(\"Convertendo anotações para a estrutura do Darknet...\")\n",
        "\n",
        "convert_annotation_to_darknet_structure('trainval', '2007', output_img_dir_2007)\n",
        "convert_annotation_to_darknet_structure('test', '2007', output_img_dir_2007)\n",
        "convert_annotation_to_darknet_structure('trainval', '2012', output_img_dir_2012)\n",
        "\n",
        "\n",
        "print(\"Re-criação dos arquivos train.txt e test.txt com os novos caminhos...\")\n",
        "\n",
        "train_image_list = []\n",
        "test_image_list = []\n",
        "\n",
        "voc2007_trainval_list_path = '/content/VOCdevkit_2007/VOC2007/ImageSets/Main/trainval.txt'\n",
        "with open(voc2007_trainval_list_path, 'r') as f:\n",
        "    image_ids = f.read().strip().split()\n",
        "    for img_id in image_ids:\n",
        "        train_image_list.append(f'./img/VOC2007/JPEGImages/{img_id}.jpg')\n",
        "\n",
        "voc2012_trainval_list_path = '/content/VOCdevkit_2012/VOC2012/ImageSets/Main/trainval.txt'\n",
        "with open(voc2012_trainval_list_path, 'r') as f:\n",
        "    image_ids = f.read().strip().split()\n",
        "    for img_id in image_ids:\n",
        "         train_image_list.append(f'./img/VOC2012/JPEGImages/{img_id}.jpg')\n",
        "\n",
        "voc2007_test_list_path = '/content/VOCdevkit_2007/VOC2007/ImageSets/Main/test.txt'\n",
        "with open(voc2007_test_list_path, 'r') as f:\n",
        "    image_ids = f.read().strip().split()\n",
        "    for img_id in image_ids:\n",
        "        test_image_list.append(f'./img/VOC2007/JPEGImages/{img_id}.jpg')\n",
        "\n",
        "\n",
        "train_txt_path_darknet = os.path.join(darknet_dir, 'data', 'train.txt')\n",
        "with open(train_txt_path_darknet, 'w') as f:\n",
        "    for img_path in train_image_list:\n",
        "        f.write(img_path + '\\n')\n",
        "\n",
        "print(f\"Arquivo {train_txt_path_darknet} criado com {len(train_image_list)} imagens.\")\n",
        "\n",
        "test_txt_path_darknet = os.path.join(darknet_dir, 'data', 'test.txt')\n",
        "with open(test_txt_path_darknet, 'w') as f:\n",
        "    for img_path in test_image_list:\n",
        "        f.write(img_path + '\\n')\n",
        "\n",
        "print(f\"Arquivo {test_txt_path_darknet} criado com {len(test_image_list)} imagens.\")\n",
        "\n",
        "\n",
        "obj_data_path_drive = os.path.join(google_drive_darknet_dir, 'obj.data')\n",
        "\n",
        "\n",
        "obj_data_content = f\"\"\"classes = {len(classes)}\n",
        "train = data/train.txt\n",
        "valid = data/test.txt\n",
        "names = data/obj.names\n",
        "backup = {os.path.join(google_drive_darknet_dir, 'backup/')}\n",
        "\"\"\"\n",
        "\n",
        "with open(obj_data_path_drive, 'w') as f:\n",
        "    f.write(obj_data_content)\n",
        "\n",
        "print(f\"Arquivo {obj_data_path_drive} criado/atualizado.\")\n",
        "\n",
        "\n",
        "original_cfg_path = os.path.join(darknet_dir, 'cfg', 'yolov3.cfg')\n",
        "drive_cfg_path = os.path.join(google_drive_darknet_dir, 'yolov3_pascalvoc.cfg')\n",
        "\n",
        "!cp {original_cfg_path} \"{drive_cfg_path}\"\n",
        "\n",
        "print(f\"\\nCopiado {original_cfg_path} para {drive_cfg_path}.\")\n",
        "print(\"Agora você precisa editar o arquivo yolov3_pascalvoc.cfg no seu Google Drive.\")\n",
        "print(\"As modificações necessárias são:\")\n",
        "print(f\"1. Encontre todas as camadas [convolutional] que vêm ANTES de uma camada [yolo].\")\n",
        "print(f\"   Altere o parâmetro 'filters' para: ({len(classes)} + 5) * 3 = {(len(classes) + 5) * 3}\")\n",
        "print(f\"   Exemplo: Se classes=20, filters = (20 + 5) * 3 = 75\")\n",
        "print(f\"2. Encontre todas as camadas [yolo].\")\n",
        "print(f\"   Altere o parâmetro 'classes' para: {len(classes)}\")\n",
        "print(f\"   Exemplo: Se classes=20, classes = 20\")\n",
        "print(\"Há 3 camadas [yolo] no yolov3.cfg padrão, então você precisará fazer essas alterações 3 vezes.\")\n",
        "print(\"\\nApós editar o arquivo .cfg no Drive, salve-o.\")\n",
        "print(\"Então estaremos prontos para o próximo passo: integrar com o treinamento no notebook.\")"
      ],
      "execution_count": null,
      "outputs": []
    }
  ]
}